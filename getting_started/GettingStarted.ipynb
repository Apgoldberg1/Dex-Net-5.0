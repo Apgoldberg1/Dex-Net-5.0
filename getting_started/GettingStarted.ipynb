{
 "cells": [
  {
   "cell_type": "code",
   "execution_count": null,
   "metadata": {},
   "outputs": [],
   "source": [
    "%env CUDA_VISIBLE_DEVICES=1"
   ]
  },
  {
   "cell_type": "markdown",
   "metadata": {},
   "source": [
    "### Running GQ-CNN inference on our dataset"
   ]
  },
  {
   "cell_type": "code",
   "execution_count": null,
   "metadata": {},
   "outputs": [],
   "source": [
    "import torch\n",
    "import numpy as np\n",
    "import matplotlib.pyplot as plt\n",
    "\n",
    "from dexnet.grasp_model import DexNetBase as GQCNN\n",
    "from dexnet.torch_dataset import Dex3Dataset as DexDataset\n",
    "from concurrent.futures import ThreadPoolExecutor\n",
    "from pathlib import Path\n",
    "\n",
    "import torch.nn.functional as F\n",
    "from torch.utils.data import Dataset\n",
    "from torchvision import transforms\n"
   ]
  },
  {
   "cell_type": "code",
   "execution_count": null,
   "metadata": {},
   "outputs": [],
   "source": [
    "# path to directory containing \"tensors\" folder\n",
    "dataset_path = Path(\"../dataset/dexnet_3/dexnet_09_13_17\")\n",
    "\n",
    "# path to model checkpoint\n",
    "model_path = \"../model_zoo/DexNetBaseSuction.pth\""
   ]
  },
  {
   "cell_type": "code",
   "execution_count": null,
   "metadata": {},
   "outputs": [],
   "source": [
    "dataset = DexDataset(dataset_path)"
   ]
  },
  {
   "cell_type": "code",
   "execution_count": null,
   "metadata": {},
   "outputs": [],
   "source": [
    "device = \"cuda\" if torch.cuda.is_available() else \"cpu\"\n",
    "if device == \"cpu\":\n",
    "    print(\"WARNING: using cpu\")\n",
    "\n",
    "model = GQCNN()\n",
    "weights = torch.load(model_path)\n",
    "model.load_state_dict(weights)\n",
    "model = model.to(device)\n",
    "model.eval()\n",
    "\n",
    "samples = np.random.choice(2000000, 256, replace=False)\n",
    "model_input = torch.stack([dataset[i][0] for i in samples])\n",
    "gt_data = torch.stack([dataset[i][1] for i in samples])\n",
    "\n",
    "print(model_input.shape)\n",
    "print(gt_data.shape)"
   ]
  },
  {
   "cell_type": "code",
   "execution_count": null,
   "metadata": {},
   "outputs": [],
   "source": [
    "model_input = model_input.to(device)\n",
    "outputs = model(model_input).cpu()\n",
    "\n",
    "# Let's see what scores our model predicted for the positive grasps!\n",
    "pos_idx = torch.where(gt_data > .2)"
   ]
  },
  {
   "cell_type": "code",
   "execution_count": null,
   "metadata": {},
   "outputs": [],
   "source": [
    "model_input = model_input.cpu()\n",
    "pos_images = model_input[pos_idx]\n",
    "labels = gt_data[pos_idx]\n",
    "predictions = outputs[pos_idx]\n",
    "\n",
    "# Visualizing positive suction grasp images\n",
    "\n",
    "fig, axes = plt.subplots(5, 5, figsize=(10, 10))\n",
    "\n",
    "for i in range(np.min([25, len(pos_images)])):\n",
    "    ax = axes[i // 5, i % 5]  # Determine the subplot position\n",
    "    ax.imshow(pos_images[i].permute(1, 2, 0))\n",
    "    ax.axis('off')  # Turn off axis for cleaner display\n",
    "    ax.text(0.5, -0.1, f\"GT: {labels[i].item():.2f}, Pred: {predictions[i].item():.2f}\", \n",
    "            transform=ax.transAxes, ha=\"center\")  # Add label and prediction as text at the bottom\n",
    "\n",
    "\n",
    "plt.show()"
   ]
  },
  {
   "cell_type": "markdown",
   "metadata": {},
   "source": []
  },
  {
   "cell_type": "markdown",
   "metadata": {},
   "source": [
    "### Running FC-GQ-CNN inference on other depth images"
   ]
  },
  {
   "cell_type": "code",
   "execution_count": 1,
   "metadata": {},
   "outputs": [],
   "source": [
    "import torch\n",
    "import numpy as np\n",
    "import matplotlib.pyplot as plt\n",
    "\n",
    "from dexnet.grasp_model import DexNetBase as GQCNN, fakeFCGQCNN\n",
    "from dexnet.torch_dataset import Dex3Dataset as DexDataset\n",
    "from concurrent.futures import ThreadPoolExecutor\n",
    "from pathlib import Path\n",
    "\n",
    "import torch.nn.functional as F\n",
    "from torch.utils.data import Dataset\n",
    "from torchvision import transforms"
   ]
  },
  {
   "cell_type": "code",
   "execution_count": 2,
   "metadata": {},
   "outputs": [],
   "source": [
    "import cv2\n",
    "from dexnet.grasp_model import BaseFCGQCNN as FCGQCNN\n",
    "from dexnet.grasp_model import HighResFCGQCNN as HighResFCGQCNN\n",
    "\n",
    "torch.backends.cudnn.deterministic = True"
   ]
  },
  {
   "cell_type": "code",
   "execution_count": 3,
   "metadata": {},
   "outputs": [],
   "source": [
    "\"\"\"\n",
    "Set your model path and image path\n",
    "\"\"\"\n",
    "# model_path = \"../model_zoo/SuctionFCGQCNN.pth\"\n",
    "# model_path = \"../model_zoo/ParallelJawBaseFCGQCNN.pth\"\n",
    "model_path = \"/home/apgoldberg/autolab/Dex-Net-5.0/model_zoo/ParallelJawBaseGQCNN_conversion.pth\"\n",
    "# gqcnn_model_path = \"../model_zoo/ParallelJawBaseGQCNN.pth\"\n",
    "gqcnn_model_path = \"../ParallelJawBaseGQCNN.pth\"\n",
    "\n",
    "depth_im_path = \"example_depth.png\"\n",
    "\n",
    "device = \"cuda\" if torch.cuda.is_available() else \"cpu\"\n",
    "if device == \"cpu\":\n",
    "    print(\"WARNING: using cpu\")"
   ]
  },
  {
   "cell_type": "code",
   "execution_count": 4,
   "metadata": {},
   "outputs": [
    {
     "data": {
      "text/plain": [
       "HighResFCGQCNN(\n",
       "  (relu): ReLU()\n",
       "  (conv1): Conv2d(1, 64, kernel_size=(7, 7), stride=(1, 1), padding=same)\n",
       "  (conv2): Conv2d(64, 64, kernel_size=(5, 5), stride=(1, 1), padding=same)\n",
       "  (maxpool): MaxPool2d(kernel_size=2, stride=2, padding=0, dilation=1, ceil_mode=False)\n",
       "  (conv3): Conv2d(64, 64, kernel_size=(3, 3), stride=(1, 1), padding=same)\n",
       "  (conv4): Conv2d(64, 64, kernel_size=(3, 3), stride=(1, 1), padding=same)\n",
       "  (lrn): LocalResponseNorm(2, alpha=2e-05, beta=0.75, k=1.0)\n",
       "  (conv5): Conv2d(64, 1024, kernel_size=(16, 16), stride=(1, 1))\n",
       "  (conv6): Conv2d(1024, 1024, kernel_size=(1, 1), stride=(1, 1))\n",
       "  (conv7): Conv2d(1024, 1, kernel_size=(1, 1), stride=(1, 1))\n",
       "  (sigmoid): Sigmoid()\n",
       ")"
      ]
     },
     "execution_count": 4,
     "metadata": {},
     "output_type": "execute_result"
    }
   ],
   "source": [
    "model = FCGQCNN().double()\n",
    "weights = torch.load(model_path)\n",
    "model.load_state_dict(weights)\n",
    "model = model.to(device)\n",
    "model.eval()\n",
    "\n",
    "gqcnn = GQCNN().double()\n",
    "gqcnn.load_state_dict(torch.load(gqcnn_model_path))\n",
    "fakeModel = fakeFCGQCNN(gqcnn).double()\n",
    "fakeModel = fakeModel.to(device)\n",
    "fakeModel.eval()\n",
    "\n",
    "high_res_model = HighResFCGQCNN().double()\n",
    "high_res_model.load_state_dict(torch.load(model_path))\n",
    "high_res_model = high_res_model.to(device)\n",
    "high_res_model.eval()"
   ]
  },
  {
   "cell_type": "code",
   "execution_count": 8,
   "metadata": {},
   "outputs": [
    {
     "name": "stdout",
     "output_type": "stream",
     "text": [
      "torch.Size([1, 1, 40, 40])\n"
     ]
    },
    {
     "data": {
      "image/png": "[encoded data removed]",
      "text/plain": [
       "<Figure size 640x480 with 1 Axes>"
      ]
     },
     "metadata": {},
     "output_type": "display_data"
    }
   ],
   "source": [
    "\"\"\"Image pre-processing functions\"\"\"\n",
    "\n",
    "def blur(img):\n",
    "    kernel = np.ones((15,15), np.uint8)\n",
    "    img = cv2.dilate(img, kernel, iterations=1)\n",
    "    img = cv2.GaussianBlur(img, (15, 15), 5)\n",
    "\n",
    "    return img\n",
    "\n",
    "def processImg(img):\n",
    "    \"\"\"\n",
    "    example preprocessing for numpy depth image shape (width, height, 1) before inference\n",
    "    blurs, normalizes, resizes, pads, and converts to tensor\n",
    "    NOT batched operation.\n",
    "    \"\"\"\n",
    "    img = img.mean(axis=-1)\n",
    "    # img = blur(img)\n",
    "    img = (img - img.mean()) / img.std()\n",
    "    img = cv2.resize(img, (40, 40))\n",
    "    pad = 0\n",
    "    img = cv2.copyMakeBorder(img, pad, pad, pad, pad, cv2.BORDER_REPLICATE)\n",
    "    img = torch.tensor(img, dtype=torch.float32).squeeze().unsqueeze(0)\n",
    "    return img\n",
    "\n",
    "depth_im = cv2.imread(depth_im_path)\n",
    "# this image happens to be inverted\n",
    "depth_im = 255 - depth_im\n",
    "depth_im = np.rot90(depth_im)\n",
    "depth_im_to_display = depth_im\n",
    "\n",
    "assert len(depth_im.shape) == 3 and depth_im.shape[2] == 3, f\"image expected to be (H, W, 3) for this demo, image is shape: {depth_im.shape}\"\n",
    "\"\"\"\n",
    "Note that this processNumpy function is not batched \n",
    "and should be adjusted based on your image distrbution\n",
    "\"\"\"\n",
    "depth_im = processImg(depth_im)\n",
    "\"\"\"\n",
    "We need to lower the resolution of our image so that the 32x32 crops still contain large portions of the object.\n",
    "This keeps the images in distribution\n",
    "We also add padding so we'll make predictions at the edge of the original image\n",
    "\"\"\"\n",
    "plt.imshow(depth_im.squeeze().unsqueeze(-1))\n",
    "depth_im = depth_im.unsqueeze(0)\n",
    "# The image we feed into our model should be shape (B, 1, H, W)\n",
    "print(depth_im.shape)"
   ]
  },
  {
   "cell_type": "code",
   "execution_count": 9,
   "metadata": {},
   "outputs": [
    {
     "name": "stdout",
     "output_type": "stream",
     "text": [
      "torch.Size([1, 1, 40, 40])\n",
      "(5, 5, 1)\n",
      "(8, 8, 1)\n",
      "(8, 8, 1)\n"
     ]
    },
    {
     "data": {
      "image/png": "[encoded data removed]",
      "text/plain": [
       "<Figure size 1000x500 with 4 Axes>"
      ]
     },
     "metadata": {},
     "output_type": "display_data"
    },
    {
     "data": {
      "text/plain": [
       "<matplotlib.image.AxesImage at 0x7f6986a3f6b0>"
      ]
     },
     "execution_count": 9,
     "metadata": {},
     "output_type": "execute_result"
    },
    {
     "data": {
      "image/png": "[encoded data removed]",
      "text/plain": [
       "<Figure size 640x480 with 1 Axes>"
      ]
     },
     "metadata": {},
     "output_type": "display_data"
    }
   ],
   "source": [
    "depth_im = depth_im.to(device).double()\n",
    "print(depth_im.shape)\n",
    "\n",
    "with torch.no_grad():\n",
    "    output_heatmap = model(depth_im).cpu()\n",
    "    output_heatmap = output_heatmap.squeeze().unsqueeze(-1).numpy()\n",
    "\n",
    "    fake_output_heatmap = fakeModel(depth_im).cpu()\n",
    "    fake_output_heatmap = fake_output_heatmap.squeeze().unsqueeze(-1).numpy()[16:-16, 16:-16]\n",
    "\n",
    "    high_res_output_heatmap = high_res_model(depth_im).cpu()\n",
    "    high_res_output_heatmap = high_res_output_heatmap.squeeze().unsqueeze(-1).numpy()\n",
    "\n",
    "print(output_heatmap.shape)\n",
    "print(fake_output_heatmap.shape)\n",
    "print(high_res_output_heatmap.shape)\n",
    "fig, axes = plt.subplots(1, 4, figsize=(10, 5))\n",
    "[a.axis('off') for a in axes]\n",
    "axes[0].imshow(output_heatmap, vmin=0, vmax=1)\n",
    "axes[1].imshow(fake_output_heatmap, vmin=0, vmax=1)\n",
    "axes[2].imshow(high_res_output_heatmap, vmin=0, vmax=1)\n",
    "axes[3].imshow(depth_im_to_display)\n",
    "plt.show()\n",
    "plt.imshow(fake_output_heatmap[::2, ::2], vmin=0, vmax=1)"
   ]
  },
  {
   "cell_type": "code",
   "execution_count": 7,
   "metadata": {},
   "outputs": [
    {
     "name": "stdout",
     "output_type": "stream",
     "text": [
      "0.1933156037135837\n"
     ]
    },
    {
     "data": {
      "text/plain": [
       "<matplotlib.image.AxesImage at 0x7f6986c8e390>"
      ]
     },
     "execution_count": 7,
     "metadata": {},
     "output_type": "execute_result"
    },
    {
     "data": {
      "image/png": "[encoded data removed]",
      "text/plain": [
       "<Figure size 640x480 with 1 Axes>"
      ]
     },
     "metadata": {},
     "output_type": "display_data"
    }
   ],
   "source": [
    "small_fake = fake_output_heatmap[::2, ::2]\n",
    "print(np.max(np.abs(small_fake - output_heatmap[:-1, :-1])))\n",
    "plt.imshow(np.abs(small_fake - output_heatmap[:-1, :-1]), vmin=0, vmax=1)"
   ]
  }
 ],
 "metadata": {
  "kernelspec": {
   "display_name": "dex",
   "language": "python",
   "name": "python3"
  },
  "language_info": {
   "codemirror_mode": {
    "name": "ipython",
    "version": 3
   },
   "file_extension": ".py",
   "mimetype": "text/x-python",
   "name": "python",
   "nbconvert_exporter": "python",
   "pygments_lexer": "ipython3",
   "version": "3.12.3"
  }
 },
 "nbformat": 4,
 "nbformat_minor": 2
}
