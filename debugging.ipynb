{
 "cells": [
  {
   "cell_type": "code",
   "execution_count": 1,
   "metadata": {},
   "outputs": [],
   "source": [
    "import torch\n",
    "import numpy as np\n",
    "from dexnet.grasp_model import DexNetBase as Model\n",
    "from concurrent.futures import ThreadPoolExecutor\n",
    "\n",
    "import torch.nn.functional as F\n",
    "from torch.utils.data import Dataset\n",
    "from torchvision import transforms"
   ]
  },
  {
   "cell_type": "code",
   "execution_count": 2,
   "metadata": {},
   "outputs": [],
   "source": [
    "key = \"depth_ims_tf_table\"\n",
    "# dataset_path = \"dataset/dexnet_3/dexnet_09_13_17\"\n",
    "dataset_path = \"dataset/dexnet_2/dexnet_2_tensor\"\n",
    "def key_to_npz(key, idx: int) -> str:\n",
    "    return f\"{dataset_path}/tensors/{key}_{str(idx).zfill(5)}.npz\"\n",
    "\n",
    "def loader(idx):\n",
    "    with np.load(key_to_npz(key, idx)) as x:\n",
    "        arr = x[\"arr_0\"].astype(np.float16)\n",
    "    return arr\n",
    "\n",
    "with ThreadPoolExecutor(max_workers=8) as executor:\n",
    "    data = executor.map(\n",
    "        lambda idx: loader(idx),\n",
    "        range(6000),\n",
    "    )\n",
    "data = torch.from_numpy(np.concatenate(list(data)))"
   ]
  },
  {
   "cell_type": "code",
   "execution_count": 29,
   "metadata": {},
   "outputs": [
    {
     "name": "stdout",
     "output_type": "stream",
     "text": [
      "tensor(0.7002, dtype=torch.float64)\n",
      "tensor(0.4448, dtype=torch.float16)\n"
     ]
    }
   ],
   "source": [
    "print(torch.mean(data.double()))\n",
    "print(torch.min(data))"
   ]
  },
  {
   "cell_type": "code",
   "execution_count": 3,
   "metadata": {},
   "outputs": [
    {
     "name": "stdout",
     "output_type": "stream",
     "text": [
      "torch.Size([6000000, 32, 32, 1])\n"
     ]
    }
   ],
   "source": [
    "print(data.shape)"
   ]
  },
  {
   "cell_type": "code",
   "execution_count": 3,
   "metadata": {},
   "outputs": [],
   "source": [
    "model = Model()\n",
    "model.load_state_dict(torch.load(\"outputs/DexNet3/best_valid_dex3_adam.pth\"))\n",
    "model = model.to(\"cuda:6\")"
   ]
  },
  {
   "cell_type": "code",
   "execution_count": 4,
   "metadata": {},
   "outputs": [],
   "source": [
    "normalizers = (\n",
    "    0.59784445,\n",
    "    0.00770147890625,\n",
    ")  # mean, std value for depth images (from analyze.py script)\n",
    "def preprocess(\n",
    "    img: torch.Tensor\n",
    ") -> torch.Tensor:\n",
    "    \"\"\"\n",
    "    Preprocesses the image for training.\n",
    "    \"\"\"\n",
    "    assert len(img.shape) == 3, \"Image shape must be (H, W, C).\"\n",
    "\n",
    "    img = img.permute(2, 0, 1).float()  # (H, W, C) -> (C, H, W)\n",
    "\n",
    "    # Normalize image data.\n",
    "    img = (img - normalizers[0]) / normalizers[1]\n",
    "\n",
    "    # Create noise -- with same shape as image.\n",
    "    gp_noise = torch.randn(8, 8) * 0.005\n",
    "    gp_noise = F.interpolate(\n",
    "        gp_noise.unsqueeze(0).unsqueeze(0), scale_factor=4.0, mode=\"bicubic\"\n",
    "    ).squeeze()\n",
    "    assert gp_noise.shape[-1] == img.shape[-1], \"Noise shape mismatch.\"\n",
    "\n",
    "    # Add the noise to the image where pixel values are greater than 0\n",
    "    mask = (img > 0).float()\n",
    "    img = img + gp_noise * mask\n",
    "\n",
    "    # Image augmentation.\n",
    "    if np.random.rand() < 0.5:\n",
    "        img = transforms.functional.rotate(img, 180)\n",
    "    if np.random.rand() < 0.5:\n",
    "        img = transforms.functional.vflip(img)\n",
    "    if np.random.rand() < 0.5:\n",
    "        img = transforms.functional.hflip(img)\n",
    "\n",
    "    return img"
   ]
  },
  {
   "cell_type": "code",
   "execution_count": 5,
   "metadata": {},
   "outputs": [
    {
     "name": "stdout",
     "output_type": "stream",
     "text": [
      "torch.float32\n",
      "torch.Size([1000, 1, 32, 32])\n",
      "torch.Size([1000, 1])\n",
      "tensor([0.0638, 0.0676, 0.0864, 0.1604, 0.0987, 0.0962, 0.6596, 0.1091, 0.5848,\n",
      "        0.1946, 0.3608, 0.1715, 0.1245, 0.0540, 0.0693, 0.1508, 0.0704, 0.1144,\n",
      "        0.1051, 0.0625, 0.0773, 0.0549, 0.0870, 0.3560, 0.0510, 0.0662, 0.1877,\n",
      "        0.1542, 0.1609, 0.0584, 0.1804, 0.1159, 0.1149, 0.2455, 0.0857, 0.0814,\n",
      "        0.1913, 0.2606, 0.0543, 0.2112, 0.0993, 0.1621, 0.2595, 0.0976, 0.3142,\n",
      "        0.2071, 0.2298, 0.5688, 0.2130, 0.0677, 0.3146, 0.3189, 0.4037, 0.1530,\n",
      "        0.0986, 0.1044, 0.3185, 0.2094, 0.0586, 0.3077, 0.0628, 0.0588, 0.0541,\n",
      "        0.0939, 0.2107, 0.3289, 0.0991, 0.1869, 0.1643, 0.4445, 0.0683, 0.0965,\n",
      "        0.2443, 0.0659, 0.8409, 0.1240, 0.0681, 0.3666, 0.6636, 0.0584, 0.1174,\n",
      "        0.0676, 0.1360, 0.3816, 0.2341, 0.1305, 0.2093, 0.3798, 0.1658, 0.3096,\n",
      "        0.0510, 0.1491, 0.2930, 0.2335, 0.1743, 0.0916, 0.0892, 0.5976, 0.6298,\n",
      "        0.0517, 0.5319, 0.1144, 0.1048, 0.2014, 0.4923, 0.0548, 0.6066, 0.0768,\n",
      "        0.0937, 0.4605, 0.1212, 0.0566, 0.0784, 0.0699, 0.1520, 0.3895, 0.0917,\n",
      "        0.1051, 0.1549, 0.4286, 0.1288, 0.4629, 0.0753, 0.4315, 0.1159, 0.0625,\n",
      "        0.1966, 0.0998, 0.0983, 0.5134, 0.1324, 0.2840, 0.3312, 0.0767, 0.1073,\n",
      "        0.1160, 0.0689, 0.2006, 0.1931, 0.1464, 0.2004, 0.3602, 0.0604, 0.1021,\n",
      "        0.1852, 0.3233, 0.1631, 0.0588, 0.2629, 0.2661, 0.0850, 0.2749, 0.1225,\n",
      "        0.0744, 0.2850, 0.3781, 0.1485, 0.5073, 0.3448, 0.2847, 0.3157, 0.5921,\n",
      "        0.0525, 0.1985, 0.3229, 0.4460, 0.0715, 0.5756, 0.5451, 0.3031, 0.1338,\n",
      "        0.1497, 0.1057, 0.1973, 0.2235, 0.0970, 0.0576, 0.3462, 0.1340, 0.1099,\n",
      "        0.1524, 0.4146, 0.1161, 0.0957, 0.1512, 0.4579, 0.3329, 0.0735, 0.5264,\n",
      "        0.2727, 0.2452, 0.1125, 0.3468, 0.1086, 0.4642, 0.0569, 0.7514, 0.0657,\n",
      "        0.0559, 0.1001, 0.1400, 0.2034, 0.0768, 0.5077, 0.0801, 0.1638, 0.2152,\n",
      "        0.1105], device='cuda:6', grad_fn=<IndexBackward0>)\n"
     ]
    }
   ],
   "source": [
    "imgs = torch.stack([preprocess(data[i]) for i in range(1000)])\n",
    "print(imgs.dtype)\n",
    "imgs = imgs.to(\"cuda:6\")\n",
    "#img = preprocess(data[0]).to(\"cuda\").unsqueeze(0)\n",
    "print(imgs.shape)\n",
    "outs = model(imgs)\n",
    "print(outs.shape)\n",
    "print(outs[torch.where(outs > .05)])"
   ]
  },
  {
   "cell_type": "code",
   "execution_count": 6,
   "metadata": {},
   "outputs": [
    {
     "data": {
      "text/plain": [
       "torch.float32"
      ]
     },
     "execution_count": 6,
     "metadata": {},
     "output_type": "execute_result"
    }
   ],
   "source": [
    "key = \"robust_suction_wrench_resistance\"\n",
    "with ThreadPoolExecutor(max_workers=8) as executor:\n",
    "    metrics = executor.map(\n",
    "        lambda idx: loader(idx),\n",
    "        range(2),\n",
    "    )\n",
    "metrics = torch.from_numpy(np.concatenate(list(metrics))).float()\n",
    "metrics = torch.stack([metrics[i] for i in range(1000)])\n",
    "metrics.dtype"
   ]
  },
  {
   "cell_type": "code",
   "execution_count": 7,
   "metadata": {},
   "outputs": [
    {
     "name": "stdout",
     "output_type": "stream",
     "text": [
      "tensor([[0.0039],\n",
      "        [0.0127],\n",
      "        [0.0676],\n",
      "        [0.0987],\n",
      "        [0.0220],\n",
      "        [0.1946],\n",
      "        [0.1245],\n",
      "        [0.0540],\n",
      "        [0.1508],\n",
      "        [0.0404],\n",
      "        [0.0125],\n",
      "        [0.0072],\n",
      "        [0.0339],\n",
      "        [0.0022],\n",
      "        [0.0048],\n",
      "        [0.0784],\n",
      "        [0.0699],\n",
      "        [0.1520],\n",
      "        [0.3895],\n",
      "        [0.1051],\n",
      "        [0.4286],\n",
      "        [0.4629],\n",
      "        [0.4315],\n",
      "        [0.1159],\n",
      "        [0.0190],\n",
      "        [0.1966],\n",
      "        [0.0322],\n",
      "        [0.1324],\n",
      "        [0.0166],\n",
      "        [0.1160],\n",
      "        [0.0689],\n",
      "        [0.0059],\n",
      "        [0.1931],\n",
      "        [0.2004],\n",
      "        [0.3602],\n",
      "        [0.0604],\n",
      "        [0.1021],\n",
      "        [0.1852],\n",
      "        [0.0358],\n",
      "        [0.0588],\n",
      "        [0.2749],\n",
      "        [0.0744],\n",
      "        [0.3781],\n",
      "        [0.0148],\n",
      "        [0.5073],\n",
      "        [0.0070],\n",
      "        [0.3157],\n",
      "        [0.0079],\n",
      "        [0.0482],\n",
      "        [0.0715],\n",
      "        [0.5756],\n",
      "        [0.5451],\n",
      "        [0.3031],\n",
      "        [0.1338],\n",
      "        [0.0471],\n",
      "        [0.0970],\n",
      "        [0.0576],\n",
      "        [0.1340],\n",
      "        [0.1099],\n",
      "        [0.1524],\n",
      "        [0.4146],\n",
      "        [0.0735],\n",
      "        [0.5264],\n",
      "        [0.2452],\n",
      "        [0.1125],\n",
      "        [0.3468],\n",
      "        [0.1086],\n",
      "        [0.0130],\n",
      "        [0.4642],\n",
      "        [0.0327],\n",
      "        [0.7514],\n",
      "        [0.0132],\n",
      "        [0.1400],\n",
      "        [0.2034],\n",
      "        [0.5077],\n",
      "        [0.1638]], grad_fn=<IndexBackward0>)\n"
     ]
    }
   ],
   "source": [
    "metrics = metrics.to(\"cpu\")\n",
    "outs = outs.cpu()\n",
    "print(outs[torch.where(metrics > .1)])"
   ]
  },
  {
   "cell_type": "code",
   "execution_count": 22,
   "metadata": {},
   "outputs": [
    {
     "name": "stdout",
     "output_type": "stream",
     "text": [
      "torch.Size([1000, 1])\n",
      "torch.Size([1000, 1])\n",
      "69 293 7\n"
     ]
    }
   ],
   "source": [
    "gt_thresh = .2\n",
    "thresh = .01\n",
    "print(metrics.shape)\n",
    "print(outs.shape)\n",
    "metrics = metrics.reshape(1000, 1)\n",
    "def getPrecisionRecall(outputs, wrench_resistances, gt_thresh, thresh=0.2):\n",
    "    tp = ((outputs > thresh) & (wrench_resistances > gt_thresh)).sum().item()\n",
    "    fp = ((outputs > thresh) & (wrench_resistances <= gt_thresh)).sum().item()\n",
    "    fn = ((outputs <= thresh) & (wrench_resistances > gt_thresh)).sum().item()\n",
    "\n",
    "    return tp, fp, fn\n",
    "tp, fp, fn = getPrecisionRecall(\n",
    "    outs, metrics, gt_thresh, thresh=thresh\n",
    ")\n",
    "print(tp, fp, fn)"
   ]
  },
  {
   "cell_type": "code",
   "execution_count": null,
   "metadata": {},
   "outputs": [],
   "source": []
  }
 ],
 "metadata": {
  "kernelspec": {
   "display_name": "dex",
   "language": "python",
   "name": "python3"
  },
  "language_info": {
   "codemirror_mode": {
    "name": "ipython",
    "version": 3
   },
   "file_extension": ".py",
   "mimetype": "text/x-python",
   "name": "python",
   "nbconvert_exporter": "python",
   "pygments_lexer": "ipython3",
   "version": "3.12.3"
  }
 },
 "nbformat": 4,
 "nbformat_minor": 2
}
